{
 "cells": [
  {
   "cell_type": "code",
   "execution_count": 15,
   "id": "f9e59840",
   "metadata": {},
   "outputs": [],
   "source": [
    "import pandas as pd\n",
    "import numpy as np\n",
    "import requests\n",
    "from bs4 import BeautifulSoup\n",
    "import os\n",
    "import csv\n",
    "import re\n",
    "pd.set_option('display.max_colwidth', None)"
   ]
  },
  {
   "cell_type": "code",
   "execution_count": 16,
   "id": "fdd67cb3",
   "metadata": {},
   "outputs": [],
   "source": [
    "file_paths = [\n",
    "    r'news\\washington-state\\articles.csv',\n",
    "    r'news\\california\\la\\articles.csv',\n",
    "    r'news\\california\\sf\\articles.csv',\n",
    "    r'news\\illinois\\articles.csv',\n",
    "    r'news\\texas\\articles.csv',\n",
    "    r'news\\maryland\\articles.csv'\n",
    "]\n",
    "\n",
    "dataframes = []\n",
    "\n",
    "for i in file_paths:\n",
    "    df = pd.read_csv(i)\n",
    "    dataframes.append(df)"
   ]
  },
  {
   "cell_type": "code",
   "execution_count": 17,
   "id": "a6f7a2d5",
   "metadata": {},
   "outputs": [],
   "source": [
    "df = pd.concat(dataframes, ignore_index=True)"
   ]
  },
  {
   "cell_type": "code",
   "execution_count": 18,
   "id": "dcc970b6",
   "metadata": {},
   "outputs": [
    {
     "data": {
      "text/html": [
       "<div>\n",
       "<style scoped>\n",
       "    .dataframe tbody tr th:only-of-type {\n",
       "        vertical-align: middle;\n",
       "    }\n",
       "\n",
       "    .dataframe tbody tr th {\n",
       "        vertical-align: top;\n",
       "    }\n",
       "\n",
       "    .dataframe thead th {\n",
       "        text-align: right;\n",
       "    }\n",
       "</style>\n",
       "<table border=\"1\" class=\"dataframe\">\n",
       "  <thead>\n",
       "    <tr style=\"text-align: right;\">\n",
       "      <th></th>\n",
       "      <th>title</th>\n",
       "      <th>article</th>\n",
       "      <th>date</th>\n",
       "      <th>news_source</th>\n",
       "      <th>state</th>\n",
       "    </tr>\n",
       "  </thead>\n",
       "  <tbody>\n",
       "    <tr>\n",
       "      <th>0</th>\n",
       "      <td>Cities awarded funding for electric vehicle charging stations</td>\n",
       "      <td>The Washington State Department of Commerce (COM) has awarded $9.8 million in Electrification of Transportation Systems (ETS) grants for 14 projects located in cities across the state.These grant awards follow an initial round of 37 applications totaling $25 million in requests for funding, according to COM.The Morning Wire: Keeping you informed on politics, policies, and personalities of Washington State.The agency says that priority was given to projects designed to close gaps in availability of EV charging infrastructure and aid communities disproportionately impacted by climate change and pollution from transportation systems.Investing in the electrification of transportation is essential to Washington’s clean energy future and for equitable economic recovery and growth throughout the state,” said Commerce Director Lisa Brown. “Importantly, these projects cover the entire state, supporting expansion of EV infrastructure that will benefit the most communities.”The grants will come out of the state’s Clean Energy Fund. In total, COM says that the projects will result in over 320 new plugs in 11 counties installing Level 2 charging stations.Here are the proposed projects that were awarded grants:City of Anacortes– $28,804for the installation of level 2 chargers for public and fleet EV charging at City Hall and public library parking lots.City of Bellingham– $1.5 millionto install charging stations on city-owned land for public, fleet and workplace use, including DC fast charging stations near on-and-off-ramps to Interstate 5, Level 2 charging stations at established parking locations, and off-grid solar chargers at areas with higher use during summer travel months.City of Tacoma– $597,558for additional EV charging stations in the downtown area, including both Level 2 and DC fast chargers at sites serving local workplaces and event centers.Clallam County– $67,890to provide charging stations at the Clallam County Courthouse to serve employees, residents, visitors and county fleet vehicles.Energy Northwest – $1.2 millionto install a charging station network along the White Pass Scenic Byway, including stations in Lewis and Yakima counties.Port of Longview – $96,800to install Level 2 charging stations to support port fleet vehicle charging, paid workplace charging and paid public charging.Port of Seattle– $1.2 millionto install DC fast charging EV chargers in the Seattle-Tacoma International Airport (SEA) transportation networking company/taxi holding lot, providing thousands of end-users with an opportunity to transition to electric vehicles.Puget Sound Energy– $77,762to install a Level 2 charger serving a shared, light-duty electric vehicle that affordable housing residents may access for transportation in Auburn.Seattle City Light– $600,000to install battery-integrated EV fast chargers on a city-owned parcel in the Belltown neighborhood of Seattle, serving ride hail and taxi drivers, residents of nearby multi-unit dwellings and employees of nearby workplaces.Skagit County– $989,521to procure and construct shore-side EVSE for a 28-car, 150-passenger battery electric ferry for service to Guemes Island.Snohomish County Public Utility District #1– $135,582to install charging stations at a newly-constructed affordable multi-family housing and commercial building serving the formerly homeless in Everett.Snohomish County Public Utility District #1– $728,780to install an en-route induction bus charging station as a demonstration project for regional transit agencies and fleets.Spokane Regional Transportation Council– $2.5 millionto install, in a consortium with Avista and member agencies, Level 2 and DC fast charging plugs at 51 strategic locations throughout Spokane County. Chargers will be used for a variety of purposes including public, fleet, workplace and bus charging.Town of Cathlamet – $109,410to install the only DCFC (Level 3) charger in rural Wahkiakum County, adjacent to State Route 4 and along State Route 409, an important rural highway connecting Washington to Oregon via the Oscar B. toll vehicle ferry.In addition to prioritizing communities disproportionately impacted by climate change and pollution from transportation systems, COM says that the grants also prioritized communities underserved by existing electric transportation infrastructure. The proposed projects are designed to advance zero-emission transportation technology.Among the eligible applicants were federally-recognized Tribes, local governments and retail electric utilities. The grant funding is conditional upon final project details and execution of contracts.Theclimate package released by Gov. Insleeearlier this month proposes a $100 million investment in the Clean Energy Fund, including $20 million for transportation electrification in order to expand the ETS grant program.Your support matters.Public service journalism is important today as ever. If you get something from our coverage, please considermaking a donationto support our work. Thanks for reading our stuff.Share This:</td>\n",
       "      <td>December 28, 2020</td>\n",
       "      <td>washingtonstatewire</td>\n",
       "      <td>washington-state</td>\n",
       "    </tr>\n",
       "  </tbody>\n",
       "</table>\n",
       "</div>"
      ],
      "text/plain": [
       "                                                           title  \\\n",
       "0  Cities awarded funding for electric vehicle charging stations   \n",
       "\n",
       "                                                                                                                                                                                                                                                                                                                                                                                                                                                                                                                                                                                                                                                                                                                                                                                                                                                                                                                                                                                                                                                                                                                                                                                                                                                                                                                                                                                                                                                                                                                                                                                                                                                                                                                                                                                                                                                                                                                                                                                                                                                                                                                                                                                                                                                                                                                                                                                                                                                                                                                                                                                                                                                                                                                                                                                                                                                                                                                                                                                                                                                                                                                                                                                                                                                                                                                                                                                                                                                                                                                                                                                                                                                                                                                                                                                                                                                                                                                                                                                                                                                                                                                                                                                                                                                                                                                                                                                                                                                                                                                                                                                                                                                                                                                                                                                                                                                                                                                                                                                                                                                                                                                                                                                                                                               article  \\\n",
       "0  The Washington State Department of Commerce (COM) has awarded $9.8 million in Electrification of Transportation Systems (ETS) grants for 14 projects located in cities across the state.These grant awards follow an initial round of 37 applications totaling $25 million in requests for funding, according to COM.The Morning Wire: Keeping you informed on politics, policies, and personalities of Washington State.The agency says that priority was given to projects designed to close gaps in availability of EV charging infrastructure and aid communities disproportionately impacted by climate change and pollution from transportation systems.Investing in the electrification of transportation is essential to Washington’s clean energy future and for equitable economic recovery and growth throughout the state,” said Commerce Director Lisa Brown. “Importantly, these projects cover the entire state, supporting expansion of EV infrastructure that will benefit the most communities.”The grants will come out of the state’s Clean Energy Fund. In total, COM says that the projects will result in over 320 new plugs in 11 counties installing Level 2 charging stations.Here are the proposed projects that were awarded grants:City of Anacortes– $28,804for the installation of level 2 chargers for public and fleet EV charging at City Hall and public library parking lots.City of Bellingham– $1.5 millionto install charging stations on city-owned land for public, fleet and workplace use, including DC fast charging stations near on-and-off-ramps to Interstate 5, Level 2 charging stations at established parking locations, and off-grid solar chargers at areas with higher use during summer travel months.City of Tacoma– $597,558for additional EV charging stations in the downtown area, including both Level 2 and DC fast chargers at sites serving local workplaces and event centers.Clallam County– $67,890to provide charging stations at the Clallam County Courthouse to serve employees, residents, visitors and county fleet vehicles.Energy Northwest – $1.2 millionto install a charging station network along the White Pass Scenic Byway, including stations in Lewis and Yakima counties.Port of Longview – $96,800to install Level 2 charging stations to support port fleet vehicle charging, paid workplace charging and paid public charging.Port of Seattle– $1.2 millionto install DC fast charging EV chargers in the Seattle-Tacoma International Airport (SEA) transportation networking company/taxi holding lot, providing thousands of end-users with an opportunity to transition to electric vehicles.Puget Sound Energy– $77,762to install a Level 2 charger serving a shared, light-duty electric vehicle that affordable housing residents may access for transportation in Auburn.Seattle City Light– $600,000to install battery-integrated EV fast chargers on a city-owned parcel in the Belltown neighborhood of Seattle, serving ride hail and taxi drivers, residents of nearby multi-unit dwellings and employees of nearby workplaces.Skagit County– $989,521to procure and construct shore-side EVSE for a 28-car, 150-passenger battery electric ferry for service to Guemes Island.Snohomish County Public Utility District #1– $135,582to install charging stations at a newly-constructed affordable multi-family housing and commercial building serving the formerly homeless in Everett.Snohomish County Public Utility District #1– $728,780to install an en-route induction bus charging station as a demonstration project for regional transit agencies and fleets.Spokane Regional Transportation Council– $2.5 millionto install, in a consortium with Avista and member agencies, Level 2 and DC fast charging plugs at 51 strategic locations throughout Spokane County. Chargers will be used for a variety of purposes including public, fleet, workplace and bus charging.Town of Cathlamet – $109,410to install the only DCFC (Level 3) charger in rural Wahkiakum County, adjacent to State Route 4 and along State Route 409, an important rural highway connecting Washington to Oregon via the Oscar B. toll vehicle ferry.In addition to prioritizing communities disproportionately impacted by climate change and pollution from transportation systems, COM says that the grants also prioritized communities underserved by existing electric transportation infrastructure. The proposed projects are designed to advance zero-emission transportation technology.Among the eligible applicants were federally-recognized Tribes, local governments and retail electric utilities. The grant funding is conditional upon final project details and execution of contracts.Theclimate package released by Gov. Insleeearlier this month proposes a $100 million investment in the Clean Energy Fund, including $20 million for transportation electrification in order to expand the ETS grant program.Your support matters.Public service journalism is important today as ever. If you get something from our coverage, please considermaking a donationto support our work. Thanks for reading our stuff.Share This:   \n",
       "\n",
       "                date          news_source             state  \n",
       "0  December 28, 2020  washingtonstatewire  washington-state  "
      ]
     },
     "execution_count": 18,
     "metadata": {},
     "output_type": "execute_result"
    }
   ],
   "source": [
    "df.head(1)"
   ]
  },
  {
   "cell_type": "code",
   "execution_count": 19,
   "id": "ee0b3634",
   "metadata": {},
   "outputs": [
    {
     "data": {
      "text/plain": [
       "(28, 5)"
      ]
     },
     "execution_count": 19,
     "metadata": {},
     "output_type": "execute_result"
    }
   ],
   "source": [
    "df.shape"
   ]
  },
  {
   "cell_type": "code",
   "execution_count": 20,
   "id": "2bb6fc3c",
   "metadata": {},
   "outputs": [],
   "source": [
    "# removing speacial characters,symbols, white spaces without altering the decimal numbers\n",
    "df['article'] = df['article'].apply(lambda text: ' '.join(re.sub(r'[^a-zA-Z0-9\\s.]', '', text).split()))\n",
    "\n"
   ]
  },
  {
   "cell_type": "code",
   "execution_count": 21,
   "id": "9f4913d2",
   "metadata": {},
   "outputs": [
    {
     "data": {
      "text/html": [
       "<div>\n",
       "<style scoped>\n",
       "    .dataframe tbody tr th:only-of-type {\n",
       "        vertical-align: middle;\n",
       "    }\n",
       "\n",
       "    .dataframe tbody tr th {\n",
       "        vertical-align: top;\n",
       "    }\n",
       "\n",
       "    .dataframe thead th {\n",
       "        text-align: right;\n",
       "    }\n",
       "</style>\n",
       "<table border=\"1\" class=\"dataframe\">\n",
       "  <thead>\n",
       "    <tr style=\"text-align: right;\">\n",
       "      <th></th>\n",
       "      <th>title</th>\n",
       "      <th>article</th>\n",
       "      <th>date</th>\n",
       "      <th>news_source</th>\n",
       "      <th>state</th>\n",
       "    </tr>\n",
       "  </thead>\n",
       "  <tbody>\n",
       "    <tr>\n",
       "      <th>0</th>\n",
       "      <td>Cities awarded funding for electric vehicle charging stations</td>\n",
       "      <td>The Washington State Department of Commerce COM has awarded 9.8 million in Electrification of Transportation Systems ETS grants for 14 projects located in cities across the state.These grant awards follow an initial round of 37 applications totaling 25 million in requests for funding according to COM.The Morning Wire Keeping you informed on politics policies and personalities of Washington State.The agency says that priority was given to projects designed to close gaps in availability of EV charging infrastructure and aid communities disproportionately impacted by climate change and pollution from transportation systems.Investing in the electrification of transportation is essential to Washingtons clean energy future and for equitable economic recovery and growth throughout the state said Commerce Director Lisa Brown. Importantly these projects cover the entire state supporting expansion of EV infrastructure that will benefit the most communities.The grants will come out of the states Clean Energy Fund. In total COM says that the projects will result in over 320 new plugs in 11 counties installing Level 2 charging stations.Here are the proposed projects that were awarded grantsCity of Anacortes 28804for the installation of level 2 chargers for public and fleet EV charging at City Hall and public library parking lots.City of Bellingham 1.5 millionto install charging stations on cityowned land for public fleet and workplace use including DC fast charging stations near onandofframps to Interstate 5 Level 2 charging stations at established parking locations and offgrid solar chargers at areas with higher use during summer travel months.City of Tacoma 597558for additional EV charging stations in the downtown area including both Level 2 and DC fast chargers at sites serving local workplaces and event centers.Clallam County 67890to provide charging stations at the Clallam County Courthouse to serve employees residents visitors and county fleet vehicles.Energy Northwest 1.2 millionto install a charging station network along the White Pass Scenic Byway including stations in Lewis and Yakima counties.Port of Longview 96800to install Level 2 charging stations to support port fleet vehicle charging paid workplace charging and paid public charging.Port of Seattle 1.2 millionto install DC fast charging EV chargers in the SeattleTacoma International Airport SEA transportation networking companytaxi holding lot providing thousands of endusers with an opportunity to transition to electric vehicles.Puget Sound Energy 77762to install a Level 2 charger serving a shared lightduty electric vehicle that affordable housing residents may access for transportation in Auburn.Seattle City Light 600000to install batteryintegrated EV fast chargers on a cityowned parcel in the Belltown neighborhood of Seattle serving ride hail and taxi drivers residents of nearby multiunit dwellings and employees of nearby workplaces.Skagit County 989521to procure and construct shoreside EVSE for a 28car 150passenger battery electric ferry for service to Guemes Island.Snohomish County Public Utility District 1 135582to install charging stations at a newlyconstructed affordable multifamily housing and commercial building serving the formerly homeless in Everett.Snohomish County Public Utility District 1 728780to install an enroute induction bus charging station as a demonstration project for regional transit agencies and fleets.Spokane Regional Transportation Council 2.5 millionto install in a consortium with Avista and member agencies Level 2 and DC fast charging plugs at 51 strategic locations throughout Spokane County. Chargers will be used for a variety of purposes including public fleet workplace and bus charging.Town of Cathlamet 109410to install the only DCFC Level 3 charger in rural Wahkiakum County adjacent to State Route 4 and along State Route 409 an important rural highway connecting Washington to Oregon via the Oscar B. toll vehicle ferry.In addition to prioritizing communities disproportionately impacted by climate change and pollution from transportation systems COM says that the grants also prioritized communities underserved by existing electric transportation infrastructure. The proposed projects are designed to advance zeroemission transportation technology.Among the eligible applicants were federallyrecognized Tribes local governments and retail electric utilities. The grant funding is conditional upon final project details and execution of contracts.Theclimate package released by Gov. Insleeearlier this month proposes a 100 million investment in the Clean Energy Fund including 20 million for transportation electrification in order to expand the ETS grant program.Your support matters.Public service journalism is important today as ever. If you get something from our coverage please considermaking a donationto support our work. Thanks for reading our stuff.Share This</td>\n",
       "      <td>December 28, 2020</td>\n",
       "      <td>washingtonstatewire</td>\n",
       "      <td>washington-state</td>\n",
       "    </tr>\n",
       "  </tbody>\n",
       "</table>\n",
       "</div>"
      ],
      "text/plain": [
       "                                                           title  \\\n",
       "0  Cities awarded funding for electric vehicle charging stations   \n",
       "\n",
       "                                                                                                                                                                                                                                                                                                                                                                                                                                                                                                                                                                                                                                                                                                                                                                                                                                                                                                                                                                                                                                                                                                                                                                                                                                                                                                                                                                                                                                                                                                                                                                                                                                                                                                                                                                                                                                                                                                                                                                                                                                                                                                                                                                                                                                                                                                                                                                                                                                                                                                                                                                                                                                                                                                                                                                                                                                                                                                                                                                                                                                                                                                                                                                                                                                                                                                                                                                                                                                                                                                                                                                                                                                                                                                                                                                                                                                                                                                                                                                                                                                                                                                                                                                                                                                                                                                                                                                                                                                                                                                                                                                                                                                                                                                                                                                                                                                                                                                                                                                                                                                                                                                                             article  \\\n",
       "0  The Washington State Department of Commerce COM has awarded 9.8 million in Electrification of Transportation Systems ETS grants for 14 projects located in cities across the state.These grant awards follow an initial round of 37 applications totaling 25 million in requests for funding according to COM.The Morning Wire Keeping you informed on politics policies and personalities of Washington State.The agency says that priority was given to projects designed to close gaps in availability of EV charging infrastructure and aid communities disproportionately impacted by climate change and pollution from transportation systems.Investing in the electrification of transportation is essential to Washingtons clean energy future and for equitable economic recovery and growth throughout the state said Commerce Director Lisa Brown. Importantly these projects cover the entire state supporting expansion of EV infrastructure that will benefit the most communities.The grants will come out of the states Clean Energy Fund. In total COM says that the projects will result in over 320 new plugs in 11 counties installing Level 2 charging stations.Here are the proposed projects that were awarded grantsCity of Anacortes 28804for the installation of level 2 chargers for public and fleet EV charging at City Hall and public library parking lots.City of Bellingham 1.5 millionto install charging stations on cityowned land for public fleet and workplace use including DC fast charging stations near onandofframps to Interstate 5 Level 2 charging stations at established parking locations and offgrid solar chargers at areas with higher use during summer travel months.City of Tacoma 597558for additional EV charging stations in the downtown area including both Level 2 and DC fast chargers at sites serving local workplaces and event centers.Clallam County 67890to provide charging stations at the Clallam County Courthouse to serve employees residents visitors and county fleet vehicles.Energy Northwest 1.2 millionto install a charging station network along the White Pass Scenic Byway including stations in Lewis and Yakima counties.Port of Longview 96800to install Level 2 charging stations to support port fleet vehicle charging paid workplace charging and paid public charging.Port of Seattle 1.2 millionto install DC fast charging EV chargers in the SeattleTacoma International Airport SEA transportation networking companytaxi holding lot providing thousands of endusers with an opportunity to transition to electric vehicles.Puget Sound Energy 77762to install a Level 2 charger serving a shared lightduty electric vehicle that affordable housing residents may access for transportation in Auburn.Seattle City Light 600000to install batteryintegrated EV fast chargers on a cityowned parcel in the Belltown neighborhood of Seattle serving ride hail and taxi drivers residents of nearby multiunit dwellings and employees of nearby workplaces.Skagit County 989521to procure and construct shoreside EVSE for a 28car 150passenger battery electric ferry for service to Guemes Island.Snohomish County Public Utility District 1 135582to install charging stations at a newlyconstructed affordable multifamily housing and commercial building serving the formerly homeless in Everett.Snohomish County Public Utility District 1 728780to install an enroute induction bus charging station as a demonstration project for regional transit agencies and fleets.Spokane Regional Transportation Council 2.5 millionto install in a consortium with Avista and member agencies Level 2 and DC fast charging plugs at 51 strategic locations throughout Spokane County. Chargers will be used for a variety of purposes including public fleet workplace and bus charging.Town of Cathlamet 109410to install the only DCFC Level 3 charger in rural Wahkiakum County adjacent to State Route 4 and along State Route 409 an important rural highway connecting Washington to Oregon via the Oscar B. toll vehicle ferry.In addition to prioritizing communities disproportionately impacted by climate change and pollution from transportation systems COM says that the grants also prioritized communities underserved by existing electric transportation infrastructure. The proposed projects are designed to advance zeroemission transportation technology.Among the eligible applicants were federallyrecognized Tribes local governments and retail electric utilities. The grant funding is conditional upon final project details and execution of contracts.Theclimate package released by Gov. Insleeearlier this month proposes a 100 million investment in the Clean Energy Fund including 20 million for transportation electrification in order to expand the ETS grant program.Your support matters.Public service journalism is important today as ever. If you get something from our coverage please considermaking a donationto support our work. Thanks for reading our stuff.Share This   \n",
       "\n",
       "                date          news_source             state  \n",
       "0  December 28, 2020  washingtonstatewire  washington-state  "
      ]
     },
     "execution_count": 21,
     "metadata": {},
     "output_type": "execute_result"
    }
   ],
   "source": [
    "df.head(1)"
   ]
  },
  {
   "cell_type": "code",
   "execution_count": 22,
   "id": "3ab0ca2f",
   "metadata": {},
   "outputs": [
    {
     "name": "stderr",
     "output_type": "stream",
     "text": [
      "[nltk_data] Downloading package punkt to\n",
      "[nltk_data]     C:\\Users\\kudik\\AppData\\Roaming\\nltk_data...\n",
      "[nltk_data]   Package punkt is already up-to-date!\n",
      "[nltk_data] Downloading package stopwords to\n",
      "[nltk_data]     C:\\Users\\kudik\\AppData\\Roaming\\nltk_data...\n",
      "[nltk_data]   Package stopwords is already up-to-date!\n",
      "[nltk_data] Downloading package wordnet to\n",
      "[nltk_data]     C:\\Users\\kudik\\AppData\\Roaming\\nltk_data...\n",
      "[nltk_data]   Package wordnet is already up-to-date!\n",
      "[nltk_data] Downloading package omw-1.4 to\n",
      "[nltk_data]     C:\\Users\\kudik\\AppData\\Roaming\\nltk_data...\n",
      "[nltk_data]   Package omw-1.4 is already up-to-date!\n"
     ]
    },
    {
     "data": {
      "text/plain": [
       "True"
      ]
     },
     "execution_count": 22,
     "metadata": {},
     "output_type": "execute_result"
    }
   ],
   "source": [
    "import nltk\n",
    "nltk.download('punkt')\n",
    "nltk.download('stopwords')\n",
    "nltk.download('wordnet')\n",
    "\n",
    "nltk.download('omw-1.4')"
   ]
  },
  {
   "cell_type": "code",
   "execution_count": 23,
   "id": "ae17d2a8",
   "metadata": {},
   "outputs": [],
   "source": [
    "import nltk\n",
    "from nltk.corpus import stopwords\n",
    "from nltk.stem import PorterStemmer\n",
    "from nltk.tokenize import word_tokenize\n",
    "from nltk.stem import WordNetLemmatizer\n",
    "from collections import Counter"
   ]
  },
  {
   "cell_type": "code",
   "execution_count": 24,
   "id": "00221c75",
   "metadata": {
    "scrolled": true
   },
   "outputs": [],
   "source": [
    "def preprocess_text(text):\n",
    "    # Tokenization\n",
    "    tokens = word_tokenize(text)\n",
    "\n",
    "    # Removing stop words\n",
    "    stop_words = set(stopwords.words('english'))\n",
    "    filtered_tokens = [word for word in tokens if word.lower() not in stop_words]\n",
    "\n",
    "#     # Stemming (using Porter Stemmer)\n",
    "    stemmer = PorterStemmer()\n",
    "    stemmed_tokens = [stemmer.stem(word) for word in filtered_tokens]\n",
    "\n",
    "#     # Lemmatization\n",
    "    lemmatizer = WordNetLemmatizer()\n",
    "    lemmatized_tokens = [lemmatizer.lemmatize(word) for word in stemmed_tokens]\n",
    "\n",
    "    return ' '.join(filtered_tokens)\n",
    "\n",
    "\n",
    "df['article'] = df['article'].apply(preprocess_text)\n"
   ]
  },
  {
   "cell_type": "code",
   "execution_count": 25,
   "id": "77d4b9c4",
   "metadata": {},
   "outputs": [
    {
     "data": {
      "text/html": [
       "<div>\n",
       "<style scoped>\n",
       "    .dataframe tbody tr th:only-of-type {\n",
       "        vertical-align: middle;\n",
       "    }\n",
       "\n",
       "    .dataframe tbody tr th {\n",
       "        vertical-align: top;\n",
       "    }\n",
       "\n",
       "    .dataframe thead th {\n",
       "        text-align: right;\n",
       "    }\n",
       "</style>\n",
       "<table border=\"1\" class=\"dataframe\">\n",
       "  <thead>\n",
       "    <tr style=\"text-align: right;\">\n",
       "      <th></th>\n",
       "      <th>title</th>\n",
       "      <th>article</th>\n",
       "      <th>date</th>\n",
       "      <th>news_source</th>\n",
       "      <th>state</th>\n",
       "    </tr>\n",
       "  </thead>\n",
       "  <tbody>\n",
       "    <tr>\n",
       "      <th>0</th>\n",
       "      <td>Cities awarded funding for electric vehicle charging stations</td>\n",
       "      <td>Washington State Department Commerce COM awarded 9.8 million Electrification Transportation Systems ETS grants 14 projects located cities across state.These grant awards follow initial round 37 applications totaling 25 million requests funding according COM.The Morning Wire Keeping informed politics policies personalities Washington State.The agency says priority given projects designed close gaps availability EV charging infrastructure aid communities disproportionately impacted climate change pollution transportation systems.Investing electrification transportation essential Washingtons clean energy future equitable economic recovery growth throughout state said Commerce Director Lisa Brown . Importantly projects cover entire state supporting expansion EV infrastructure benefit communities.The grants come states Clean Energy Fund . total COM says projects result 320 new plugs 11 counties installing Level 2 charging stations.Here proposed projects awarded grantsCity Anacortes 28804for installation level 2 chargers public fleet EV charging City Hall public library parking lots.City Bellingham 1.5 millionto install charging stations cityowned land public fleet workplace use including DC fast charging stations near onandofframps Interstate 5 Level 2 charging stations established parking locations offgrid solar chargers areas higher use summer travel months.City Tacoma 597558for additional EV charging stations downtown area including Level 2 DC fast chargers sites serving local workplaces event centers.Clallam County 67890to provide charging stations Clallam County Courthouse serve employees residents visitors county fleet vehicles.Energy Northwest 1.2 millionto install charging station network along White Pass Scenic Byway including stations Lewis Yakima counties.Port Longview 96800to install Level 2 charging stations support port fleet vehicle charging paid workplace charging paid public charging.Port Seattle 1.2 millionto install DC fast charging EV chargers SeattleTacoma International Airport SEA transportation networking companytaxi holding lot providing thousands endusers opportunity transition electric vehicles.Puget Sound Energy 77762to install Level 2 charger serving shared lightduty electric vehicle affordable housing residents may access transportation Auburn.Seattle City Light 600000to install batteryintegrated EV fast chargers cityowned parcel Belltown neighborhood Seattle serving ride hail taxi drivers residents nearby multiunit dwellings employees nearby workplaces.Skagit County 989521to procure construct shoreside EVSE 28car 150passenger battery electric ferry service Guemes Island.Snohomish County Public Utility District 1 135582to install charging stations newlyconstructed affordable multifamily housing commercial building serving formerly homeless Everett.Snohomish County Public Utility District 1 728780to install enroute induction bus charging station demonstration project regional transit agencies fleets.Spokane Regional Transportation Council 2.5 millionto install consortium Avista member agencies Level 2 DC fast charging plugs 51 strategic locations throughout Spokane County . Chargers used variety purposes including public fleet workplace bus charging.Town Cathlamet 109410to install DCFC Level 3 charger rural Wahkiakum County adjacent State Route 4 along State Route 409 important rural highway connecting Washington Oregon via Oscar B. toll vehicle ferry.In addition prioritizing communities disproportionately impacted climate change pollution transportation systems COM says grants also prioritized communities underserved existing electric transportation infrastructure . proposed projects designed advance zeroemission transportation technology.Among eligible applicants federallyrecognized Tribes local governments retail electric utilities . grant funding conditional upon final project details execution contracts.Theclimate package released Gov . Insleeearlier month proposes 100 million investment Clean Energy Fund including 20 million transportation electrification order expand ETS grant program.Your support matters.Public service journalism important today ever . get something coverage please considermaking donationto support work . Thanks reading stuff.Share</td>\n",
       "      <td>December 28, 2020</td>\n",
       "      <td>washingtonstatewire</td>\n",
       "      <td>washington-state</td>\n",
       "    </tr>\n",
       "  </tbody>\n",
       "</table>\n",
       "</div>"
      ],
      "text/plain": [
       "                                                           title  \\\n",
       "0  Cities awarded funding for electric vehicle charging stations   \n",
       "\n",
       "                                                                                                                                                                                                                                                                                                                                                                                                                                                                                                                                                                                                                                                                                                                                                                                                                                                                                                                                                                                                                                                                                                                                                                                                                                                                                                                                                                                                                                                                                                                                                                                                                                                                                                                                                                                                                                                                                                                                                                                                                                                                                                                                                                                                                                                                                                                                                                                                                                                                                                                                                                                                                                                                                                                                                                                                                                                                                                                                                                                                                                                                                                                                                                                                                                                                                                                                                                                                                                                                                                                                                                                                                                                                                                                                                                                                                                                                                                                                                                                                                                                                                                                                                                                                                                                                                                                                                                                                                             article  \\\n",
       "0  Washington State Department Commerce COM awarded 9.8 million Electrification Transportation Systems ETS grants 14 projects located cities across state.These grant awards follow initial round 37 applications totaling 25 million requests funding according COM.The Morning Wire Keeping informed politics policies personalities Washington State.The agency says priority given projects designed close gaps availability EV charging infrastructure aid communities disproportionately impacted climate change pollution transportation systems.Investing electrification transportation essential Washingtons clean energy future equitable economic recovery growth throughout state said Commerce Director Lisa Brown . Importantly projects cover entire state supporting expansion EV infrastructure benefit communities.The grants come states Clean Energy Fund . total COM says projects result 320 new plugs 11 counties installing Level 2 charging stations.Here proposed projects awarded grantsCity Anacortes 28804for installation level 2 chargers public fleet EV charging City Hall public library parking lots.City Bellingham 1.5 millionto install charging stations cityowned land public fleet workplace use including DC fast charging stations near onandofframps Interstate 5 Level 2 charging stations established parking locations offgrid solar chargers areas higher use summer travel months.City Tacoma 597558for additional EV charging stations downtown area including Level 2 DC fast chargers sites serving local workplaces event centers.Clallam County 67890to provide charging stations Clallam County Courthouse serve employees residents visitors county fleet vehicles.Energy Northwest 1.2 millionto install charging station network along White Pass Scenic Byway including stations Lewis Yakima counties.Port Longview 96800to install Level 2 charging stations support port fleet vehicle charging paid workplace charging paid public charging.Port Seattle 1.2 millionto install DC fast charging EV chargers SeattleTacoma International Airport SEA transportation networking companytaxi holding lot providing thousands endusers opportunity transition electric vehicles.Puget Sound Energy 77762to install Level 2 charger serving shared lightduty electric vehicle affordable housing residents may access transportation Auburn.Seattle City Light 600000to install batteryintegrated EV fast chargers cityowned parcel Belltown neighborhood Seattle serving ride hail taxi drivers residents nearby multiunit dwellings employees nearby workplaces.Skagit County 989521to procure construct shoreside EVSE 28car 150passenger battery electric ferry service Guemes Island.Snohomish County Public Utility District 1 135582to install charging stations newlyconstructed affordable multifamily housing commercial building serving formerly homeless Everett.Snohomish County Public Utility District 1 728780to install enroute induction bus charging station demonstration project regional transit agencies fleets.Spokane Regional Transportation Council 2.5 millionto install consortium Avista member agencies Level 2 DC fast charging plugs 51 strategic locations throughout Spokane County . Chargers used variety purposes including public fleet workplace bus charging.Town Cathlamet 109410to install DCFC Level 3 charger rural Wahkiakum County adjacent State Route 4 along State Route 409 important rural highway connecting Washington Oregon via Oscar B. toll vehicle ferry.In addition prioritizing communities disproportionately impacted climate change pollution transportation systems COM says grants also prioritized communities underserved existing electric transportation infrastructure . proposed projects designed advance zeroemission transportation technology.Among eligible applicants federallyrecognized Tribes local governments retail electric utilities . grant funding conditional upon final project details execution contracts.Theclimate package released Gov . Insleeearlier month proposes 100 million investment Clean Energy Fund including 20 million transportation electrification order expand ETS grant program.Your support matters.Public service journalism important today ever . get something coverage please considermaking donationto support work . Thanks reading stuff.Share   \n",
       "\n",
       "                date          news_source             state  \n",
       "0  December 28, 2020  washingtonstatewire  washington-state  "
      ]
     },
     "execution_count": 25,
     "metadata": {},
     "output_type": "execute_result"
    }
   ],
   "source": [
    "df.head(1)"
   ]
  },
  {
   "cell_type": "code",
   "execution_count": 26,
   "id": "48864be8",
   "metadata": {},
   "outputs": [
    {
     "name": "stdout",
     "output_type": "stream",
     "text": [
      "Requirement already satisfied: wordcloud in c:\\users\\kudik\\anaconda3\\lib\\site-packages (1.9.2)\n",
      "Requirement already satisfied: numpy>=1.6.1 in c:\\users\\kudik\\anaconda3\\lib\\site-packages (from wordcloud) (1.21.5)\n",
      "Requirement already satisfied: pillow in c:\\users\\kudik\\anaconda3\\lib\\site-packages (from wordcloud) (9.0.1)\n",
      "Requirement already satisfied: matplotlib in c:\\users\\kudik\\anaconda3\\lib\\site-packages (from wordcloud) (3.5.1)\n",
      "Requirement already satisfied: cycler>=0.10 in c:\\users\\kudik\\anaconda3\\lib\\site-packages (from matplotlib->wordcloud) (0.11.0)\n",
      "Requirement already satisfied: fonttools>=4.22.0 in c:\\users\\kudik\\anaconda3\\lib\\site-packages (from matplotlib->wordcloud) (4.25.0)\n",
      "Requirement already satisfied: kiwisolver>=1.0.1 in c:\\users\\kudik\\anaconda3\\lib\\site-packages (from matplotlib->wordcloud) (1.3.2)\n",
      "Requirement already satisfied: packaging>=20.0 in c:\\users\\kudik\\anaconda3\\lib\\site-packages (from matplotlib->wordcloud) (21.3)\n",
      "Requirement already satisfied: pyparsing>=2.2.1 in c:\\users\\kudik\\anaconda3\\lib\\site-packages (from matplotlib->wordcloud) (3.0.4)\n",
      "Requirement already satisfied: python-dateutil>=2.7 in c:\\users\\kudik\\anaconda3\\lib\\site-packages (from matplotlib->wordcloud) (2.8.2)\n",
      "Requirement already satisfied: six>=1.5 in c:\\users\\kudik\\anaconda3\\lib\\site-packages (from python-dateutil>=2.7->matplotlib->wordcloud) (1.16.0)\n",
      "Note: you may need to restart the kernel to use updated packages.\n"
     ]
    },
    {
     "name": "stderr",
     "output_type": "stream",
     "text": [
      "\n",
      "[notice] A new release of pip is available: 23.2.1 -> 23.3.1\n",
      "[notice] To update, run: python.exe -m pip install --upgrade pip\n"
     ]
    }
   ],
   "source": [
    "pip install wordcloud\n"
   ]
  },
  {
   "cell_type": "code",
   "execution_count": 27,
   "id": "001cf2d1",
   "metadata": {},
   "outputs": [
    {
     "name": "stdout",
     "output_type": "stream",
     "text": [
      "Requirement already satisfied: Pillow in c:\\users\\kudik\\anaconda3\\lib\\site-packages (9.0.1)\n",
      "Note: you may need to restart the kernel to use updated packages.\n"
     ]
    },
    {
     "name": "stderr",
     "output_type": "stream",
     "text": [
      "\n",
      "[notice] A new release of pip is available: 23.2.1 -> 23.3.1\n",
      "[notice] To update, run: python.exe -m pip install --upgrade pip\n"
     ]
    }
   ],
   "source": [
    "pip install Pillow\n"
   ]
  },
  {
   "cell_type": "code",
   "execution_count": 29,
   "id": "11e2c924",
   "metadata": {},
   "outputs": [
    {
     "name": "stdout",
     "output_type": "stream",
     "text": [
      "Collecting pillow-simd\n",
      "  Downloading Pillow-SIMD-9.0.0.post1.tar.gz (849 kB)\n",
      "     -------------------------------------- 849.9/849.9 kB 1.5 MB/s eta 0:00:00\n",
      "  Preparing metadata (setup.py): started\n",
      "  Preparing metadata (setup.py): finished with status 'done'\n",
      "Building wheels for collected packages: pillow-simd\n",
      "  Building wheel for pillow-simd (setup.py): started\n",
      "  Building wheel for pillow-simd (setup.py): finished with status 'error'\n",
      "  Running setup.py clean for pillow-simd\n",
      "Failed to build pillow-simd\n",
      "Note: you may need to restart the kernel to use updated packages.\n"
     ]
    },
    {
     "name": "stderr",
     "output_type": "stream",
     "text": [
      "  error: subprocess-exited-with-error\n",
      "  \n",
      "  python setup.py bdist_wheel did not run successfully.\n",
      "  exit code: 1\n",
      "  \n",
      "  [187 lines of output]\n",
      "  running bdist_wheel\n",
      "  running build\n",
      "  running build_py\n",
      "  creating build\n",
      "  creating build\\lib.win-amd64-3.9\n",
      "  creating build\\lib.win-amd64-3.9\\PIL\n",
      "  copying src\\PIL\\BdfFontFile.py -> build\\lib.win-amd64-3.9\\PIL\n",
      "  copying src\\PIL\\BlpImagePlugin.py -> build\\lib.win-amd64-3.9\\PIL\n",
      "  copying src\\PIL\\BmpImagePlugin.py -> build\\lib.win-amd64-3.9\\PIL\n",
      "  copying src\\PIL\\BufrStubImagePlugin.py -> build\\lib.win-amd64-3.9\\PIL\n",
      "  copying src\\PIL\\ContainerIO.py -> build\\lib.win-amd64-3.9\\PIL\n",
      "  copying src\\PIL\\CurImagePlugin.py -> build\\lib.win-amd64-3.9\\PIL\n",
      "  copying src\\PIL\\DcxImagePlugin.py -> build\\lib.win-amd64-3.9\\PIL\n",
      "  copying src\\PIL\\DdsImagePlugin.py -> build\\lib.win-amd64-3.9\\PIL\n",
      "  copying src\\PIL\\EpsImagePlugin.py -> build\\lib.win-amd64-3.9\\PIL\n",
      "  copying src\\PIL\\ExifTags.py -> build\\lib.win-amd64-3.9\\PIL\n",
      "  copying src\\PIL\\features.py -> build\\lib.win-amd64-3.9\\PIL\n",
      "  copying src\\PIL\\FitsStubImagePlugin.py -> build\\lib.win-amd64-3.9\\PIL\n",
      "  copying src\\PIL\\FliImagePlugin.py -> build\\lib.win-amd64-3.9\\PIL\n",
      "  copying src\\PIL\\FontFile.py -> build\\lib.win-amd64-3.9\\PIL\n",
      "  copying src\\PIL\\FpxImagePlugin.py -> build\\lib.win-amd64-3.9\\PIL\n",
      "  copying src\\PIL\\FtexImagePlugin.py -> build\\lib.win-amd64-3.9\\PIL\n",
      "  copying src\\PIL\\GbrImagePlugin.py -> build\\lib.win-amd64-3.9\\PIL\n",
      "  copying src\\PIL\\GdImageFile.py -> build\\lib.win-amd64-3.9\\PIL\n",
      "  copying src\\PIL\\GifImagePlugin.py -> build\\lib.win-amd64-3.9\\PIL\n",
      "  copying src\\PIL\\GimpGradientFile.py -> build\\lib.win-amd64-3.9\\PIL\n",
      "  copying src\\PIL\\GimpPaletteFile.py -> build\\lib.win-amd64-3.9\\PIL\n",
      "  copying src\\PIL\\GribStubImagePlugin.py -> build\\lib.win-amd64-3.9\\PIL\n",
      "  copying src\\PIL\\Hdf5StubImagePlugin.py -> build\\lib.win-amd64-3.9\\PIL\n",
      "  copying src\\PIL\\IcnsImagePlugin.py -> build\\lib.win-amd64-3.9\\PIL\n",
      "  copying src\\PIL\\IcoImagePlugin.py -> build\\lib.win-amd64-3.9\\PIL\n",
      "  copying src\\PIL\\Image.py -> build\\lib.win-amd64-3.9\\PIL\n",
      "  copying src\\PIL\\ImageChops.py -> build\\lib.win-amd64-3.9\\PIL\n",
      "  copying src\\PIL\\ImageCms.py -> build\\lib.win-amd64-3.9\\PIL\n",
      "  copying src\\PIL\\ImageColor.py -> build\\lib.win-amd64-3.9\\PIL\n",
      "  copying src\\PIL\\ImageDraw.py -> build\\lib.win-amd64-3.9\\PIL\n",
      "  copying src\\PIL\\ImageDraw2.py -> build\\lib.win-amd64-3.9\\PIL\n",
      "  copying src\\PIL\\ImageEnhance.py -> build\\lib.win-amd64-3.9\\PIL\n",
      "  copying src\\PIL\\ImageFile.py -> build\\lib.win-amd64-3.9\\PIL\n",
      "  copying src\\PIL\\ImageFilter.py -> build\\lib.win-amd64-3.9\\PIL\n",
      "  copying src\\PIL\\ImageFont.py -> build\\lib.win-amd64-3.9\\PIL\n",
      "  copying src\\PIL\\ImageGrab.py -> build\\lib.win-amd64-3.9\\PIL\n",
      "  copying src\\PIL\\ImageMath.py -> build\\lib.win-amd64-3.9\\PIL\n",
      "  copying src\\PIL\\ImageMode.py -> build\\lib.win-amd64-3.9\\PIL\n",
      "  copying src\\PIL\\ImageMorph.py -> build\\lib.win-amd64-3.9\\PIL\n",
      "  copying src\\PIL\\ImageOps.py -> build\\lib.win-amd64-3.9\\PIL\n",
      "  copying src\\PIL\\ImagePalette.py -> build\\lib.win-amd64-3.9\\PIL\n",
      "  copying src\\PIL\\ImagePath.py -> build\\lib.win-amd64-3.9\\PIL\n",
      "  copying src\\PIL\\ImageQt.py -> build\\lib.win-amd64-3.9\\PIL\n",
      "  copying src\\PIL\\ImageSequence.py -> build\\lib.win-amd64-3.9\\PIL\n",
      "  copying src\\PIL\\ImageShow.py -> build\\lib.win-amd64-3.9\\PIL\n",
      "  copying src\\PIL\\ImageStat.py -> build\\lib.win-amd64-3.9\\PIL\n",
      "  copying src\\PIL\\ImageTk.py -> build\\lib.win-amd64-3.9\\PIL\n",
      "  copying src\\PIL\\ImageTransform.py -> build\\lib.win-amd64-3.9\\PIL\n",
      "  copying src\\PIL\\ImageWin.py -> build\\lib.win-amd64-3.9\\PIL\n",
      "  copying src\\PIL\\ImImagePlugin.py -> build\\lib.win-amd64-3.9\\PIL\n",
      "  copying src\\PIL\\ImtImagePlugin.py -> build\\lib.win-amd64-3.9\\PIL\n",
      "  copying src\\PIL\\IptcImagePlugin.py -> build\\lib.win-amd64-3.9\\PIL\n",
      "  copying src\\PIL\\Jpeg2KImagePlugin.py -> build\\lib.win-amd64-3.9\\PIL\n",
      "  copying src\\PIL\\JpegImagePlugin.py -> build\\lib.win-amd64-3.9\\PIL\n",
      "  copying src\\PIL\\JpegPresets.py -> build\\lib.win-amd64-3.9\\PIL\n",
      "  copying src\\PIL\\McIdasImagePlugin.py -> build\\lib.win-amd64-3.9\\PIL\n",
      "  copying src\\PIL\\MicImagePlugin.py -> build\\lib.win-amd64-3.9\\PIL\n",
      "  copying src\\PIL\\MpegImagePlugin.py -> build\\lib.win-amd64-3.9\\PIL\n",
      "  copying src\\PIL\\MpoImagePlugin.py -> build\\lib.win-amd64-3.9\\PIL\n",
      "  copying src\\PIL\\MspImagePlugin.py -> build\\lib.win-amd64-3.9\\PIL\n",
      "  copying src\\PIL\\PaletteFile.py -> build\\lib.win-amd64-3.9\\PIL\n",
      "  copying src\\PIL\\PalmImagePlugin.py -> build\\lib.win-amd64-3.9\\PIL\n",
      "  copying src\\PIL\\PcdImagePlugin.py -> build\\lib.win-amd64-3.9\\PIL\n",
      "  copying src\\PIL\\PcfFontFile.py -> build\\lib.win-amd64-3.9\\PIL\n",
      "  copying src\\PIL\\PcxImagePlugin.py -> build\\lib.win-amd64-3.9\\PIL\n",
      "  copying src\\PIL\\PdfImagePlugin.py -> build\\lib.win-amd64-3.9\\PIL\n",
      "  copying src\\PIL\\PdfParser.py -> build\\lib.win-amd64-3.9\\PIL\n",
      "  copying src\\PIL\\PixarImagePlugin.py -> build\\lib.win-amd64-3.9\\PIL\n",
      "  copying src\\PIL\\PngImagePlugin.py -> build\\lib.win-amd64-3.9\\PIL\n",
      "  copying src\\PIL\\PpmImagePlugin.py -> build\\lib.win-amd64-3.9\\PIL\n",
      "  copying src\\PIL\\PsdImagePlugin.py -> build\\lib.win-amd64-3.9\\PIL\n",
      "  copying src\\PIL\\PSDraw.py -> build\\lib.win-amd64-3.9\\PIL\n",
      "  copying src\\PIL\\PyAccess.py -> build\\lib.win-amd64-3.9\\PIL\n",
      "  copying src\\PIL\\SgiImagePlugin.py -> build\\lib.win-amd64-3.9\\PIL\n",
      "  copying src\\PIL\\SpiderImagePlugin.py -> build\\lib.win-amd64-3.9\\PIL\n",
      "  copying src\\PIL\\SunImagePlugin.py -> build\\lib.win-amd64-3.9\\PIL\n",
      "  copying src\\PIL\\TarIO.py -> build\\lib.win-amd64-3.9\\PIL\n",
      "  copying src\\PIL\\TgaImagePlugin.py -> build\\lib.win-amd64-3.9\\PIL\n",
      "  copying src\\PIL\\TiffImagePlugin.py -> build\\lib.win-amd64-3.9\\PIL\n",
      "  copying src\\PIL\\TiffTags.py -> build\\lib.win-amd64-3.9\\PIL\n",
      "  copying src\\PIL\\WalImageFile.py -> build\\lib.win-amd64-3.9\\PIL\n",
      "  copying src\\PIL\\WebPImagePlugin.py -> build\\lib.win-amd64-3.9\\PIL\n",
      "  copying src\\PIL\\WmfImagePlugin.py -> build\\lib.win-amd64-3.9\\PIL\n",
      "  copying src\\PIL\\XbmImagePlugin.py -> build\\lib.win-amd64-3.9\\PIL\n",
      "  copying src\\PIL\\XpmImagePlugin.py -> build\\lib.win-amd64-3.9\\PIL\n",
      "  copying src\\PIL\\XVThumbImagePlugin.py -> build\\lib.win-amd64-3.9\\PIL\n",
      "  copying src\\PIL\\_binary.py -> build\\lib.win-amd64-3.9\\PIL\n",
      "  copying src\\PIL\\_tkinter_finder.py -> build\\lib.win-amd64-3.9\\PIL\n",
      "  copying src\\PIL\\_util.py -> build\\lib.win-amd64-3.9\\PIL\n",
      "  copying src\\PIL\\_version.py -> build\\lib.win-amd64-3.9\\PIL\n",
      "  copying src\\PIL\\__init__.py -> build\\lib.win-amd64-3.9\\PIL\n",
      "  copying src\\PIL\\__main__.py -> build\\lib.win-amd64-3.9\\PIL\n",
      "  running egg_info\n",
      "  writing src\\Pillow_SIMD.egg-info\\PKG-INFO\n",
      "  writing dependency_links to src\\Pillow_SIMD.egg-info\\dependency_links.txt\n",
      "  writing top-level names to src\\Pillow_SIMD.egg-info\\top_level.txt\n",
      "  reading manifest file 'src\\Pillow_SIMD.egg-info\\SOURCES.txt'\n",
      "  reading manifest template 'MANIFEST.in'\n",
      "  warning: no files found matching '*.c'\n",
      "  warning: no files found matching '*.h'\n",
      "  warning: no files found matching '*.sh'\n",
      "  warning: no directories found matching 'Tests'\n",
      "  no previously-included directories found matching 'Tests'\n",
      "  warning: no previously-included files found matching '.appveyor.yml'\n",
      "  warning: no previously-included files found matching '.clang-format'\n",
      "  warning: no previously-included files found matching '.coveragerc'\n",
      "  warning: no previously-included files found matching '.editorconfig'\n",
      "  warning: no previously-included files found matching '.readthedocs.yml'\n",
      "  warning: no previously-included files found matching 'codecov.yml'\n",
      "  warning: no previously-included files matching '.git*' found anywhere in distribution\n",
      "  warning: no previously-included files matching '*.pyc' found anywhere in distribution\n",
      "  warning: no previously-included files matching '*.so' found anywhere in distribution\n",
      "  no previously-included directories found matching '.ci'\n",
      "  adding license file 'LICENSE'\n",
      "  writing manifest file 'src\\Pillow_SIMD.egg-info\\SOURCES.txt'\n",
      "  running build_ext\n",
      "  \n",
      "  \n",
      "  The headers or library files could not be found for zlib,\n",
      "  a required dependency when compiling Pillow from source.\n",
      "  \n",
      "  Please see the install instructions at:\n",
      "     https://pillow.readthedocs.io/en/latest/installation.html\n",
      "  \n",
      "  Traceback (most recent call last):\n",
      "    File \"C:\\Users\\kudik\\AppData\\Local\\Temp\\pip-install-2ph7l5gs\\pillow-simd_d78402a654624f4090f2ca064c9c7d07\\setup.py\", line 989, in <module>\n",
      "      setup(\n",
      "    File \"C:\\Users\\kudik\\anaconda3\\lib\\site-packages\\setuptools\\__init__.py\", line 87, in setup\n",
      "      return distutils.core.setup(**attrs)\n",
      "    File \"C:\\Users\\kudik\\anaconda3\\lib\\site-packages\\setuptools\\_distutils\\core.py\", line 148, in setup\n",
      "      return run_commands(dist)\n",
      "    File \"C:\\Users\\kudik\\anaconda3\\lib\\site-packages\\setuptools\\_distutils\\core.py\", line 163, in run_commands\n",
      "      dist.run_commands()\n",
      "    File \"C:\\Users\\kudik\\anaconda3\\lib\\site-packages\\setuptools\\_distutils\\dist.py\", line 967, in run_commands\n",
      "      self.run_command(cmd)\n",
      "    File \"C:\\Users\\kudik\\anaconda3\\lib\\site-packages\\setuptools\\dist.py\", line 1214, in run_command\n",
      "      super().run_command(command)\n",
      "    File \"C:\\Users\\kudik\\anaconda3\\lib\\site-packages\\setuptools\\_distutils\\dist.py\", line 986, in run_command\n",
      "      cmd_obj.run()\n",
      "    File \"C:\\Users\\kudik\\anaconda3\\lib\\site-packages\\wheel\\bdist_wheel.py\", line 299, in run\n",
      "      self.run_command('build')\n",
      "    File \"C:\\Users\\kudik\\anaconda3\\lib\\site-packages\\setuptools\\_distutils\\cmd.py\", line 313, in run_command\n",
      "      self.distribution.run_command(command)\n",
      "    File \"C:\\Users\\kudik\\anaconda3\\lib\\site-packages\\setuptools\\dist.py\", line 1214, in run_command\n",
      "      super().run_command(command)\n",
      "    File \"C:\\Users\\kudik\\anaconda3\\lib\\site-packages\\setuptools\\_distutils\\dist.py\", line 986, in run_command\n",
      "      cmd_obj.run()\n",
      "    File \"C:\\Users\\kudik\\anaconda3\\lib\\site-packages\\setuptools\\_distutils\\command\\build.py\", line 135, in run\n",
      "      self.run_command(cmd_name)\n",
      "    File \"C:\\Users\\kudik\\anaconda3\\lib\\site-packages\\setuptools\\_distutils\\cmd.py\", line 313, in run_command\n",
      "      self.distribution.run_command(command)\n",
      "    File \"C:\\Users\\kudik\\anaconda3\\lib\\site-packages\\setuptools\\dist.py\", line 1214, in run_command\n",
      "      super().run_command(command)\n",
      "    File \"C:\\Users\\kudik\\anaconda3\\lib\\site-packages\\setuptools\\_distutils\\dist.py\", line 986, in run_command\n",
      "      cmd_obj.run()\n",
      "    File \"C:\\Users\\kudik\\anaconda3\\lib\\site-packages\\setuptools\\command\\build_ext.py\", line 79, in run\n",
      "      _build_ext.run(self)\n",
      "    File \"C:\\Users\\kudik\\anaconda3\\lib\\site-packages\\Cython\\Distutils\\old_build_ext.py\", line 186, in run\n",
      "      _build_ext.build_ext.run(self)\n",
      "    File \"C:\\Users\\kudik\\anaconda3\\lib\\site-packages\\setuptools\\_distutils\\command\\build_ext.py\", line 339, in run\n",
      "      self.build_extensions()\n",
      "    File \"C:\\Users\\kudik\\AppData\\Local\\Temp\\pip-install-2ph7l5gs\\pillow-simd_d78402a654624f4090f2ca064c9c7d07\\setup.py\", line 804, in build_extensions\n",
      "      raise RequiredDependencyException(f)\n",
      "  __main__.RequiredDependencyException: zlib\n",
      "  \n",
      "  During handling of the above exception, another exception occurred:\n",
      "  \n",
      "  Traceback (most recent call last):\n",
      "    File \"<string>\", line 2, in <module>\n",
      "    File \"<pip-setuptools-caller>\", line 34, in <module>\n",
      "    File \"C:\\Users\\kudik\\AppData\\Local\\Temp\\pip-install-2ph7l5gs\\pillow-simd_d78402a654624f4090f2ca064c9c7d07\\setup.py\", line 1009, in <module>\n",
      "      raise RequiredDependencyException(msg)\n",
      "  __main__.RequiredDependencyException:\n",
      "  \n",
      "  The headers or library files could not be found for zlib,\n",
      "  a required dependency when compiling Pillow from source.\n",
      "  \n",
      "  Please see the install instructions at:\n",
      "     https://pillow.readthedocs.io/en/latest/installation.html\n",
      "  \n",
      "  \n",
      "  [end of output]\n",
      "  \n",
      "  note: This error originates from a subprocess, and is likely not a problem with pip.\n",
      "  ERROR: Failed building wheel for pillow-simd\n",
      "ERROR: Could not build wheels for pillow-simd, which is required to install pyproject.toml-based projects\n",
      "\n",
      "[notice] A new release of pip is available: 23.2.1 -> 23.3.1\n",
      "[notice] To update, run: python.exe -m pip install --upgrade pip\n"
     ]
    }
   ],
   "source": [
    "pip install pillow-simd\n"
   ]
  },
  {
   "cell_type": "code",
   "execution_count": 31,
   "id": "2329d7e4",
   "metadata": {},
   "outputs": [
    {
     "ename": "ImportError",
     "evalue": "The _imagingft C module is not installed",
     "output_type": "error",
     "traceback": [
      "\u001b[1;31m---------------------------------------------------------------------------\u001b[0m",
      "\u001b[1;31mImportError\u001b[0m                               Traceback (most recent call last)",
      "Input \u001b[1;32mIn [31]\u001b[0m, in \u001b[0;36m<cell line: 8>\u001b[1;34m()\u001b[0m\n\u001b[0;32m      5\u001b[0m combined_text \u001b[38;5;241m=\u001b[39m \u001b[38;5;124m'\u001b[39m\u001b[38;5;124m \u001b[39m\u001b[38;5;124m'\u001b[39m\u001b[38;5;241m.\u001b[39mjoin(df[\u001b[38;5;124m'\u001b[39m\u001b[38;5;124marticle\u001b[39m\u001b[38;5;124m'\u001b[39m])\n\u001b[0;32m      7\u001b[0m \u001b[38;5;66;03m# Create a WordCloud object\u001b[39;00m\n\u001b[1;32m----> 8\u001b[0m wordcloud \u001b[38;5;241m=\u001b[39m \u001b[43mWordCloud\u001b[49m\u001b[43m(\u001b[49m\u001b[43mwidth\u001b[49m\u001b[38;5;241;43m=\u001b[39;49m\u001b[38;5;241;43m800\u001b[39;49m\u001b[43m,\u001b[49m\u001b[43m \u001b[49m\u001b[43mheight\u001b[49m\u001b[38;5;241;43m=\u001b[39;49m\u001b[38;5;241;43m400\u001b[39;49m\u001b[43m,\u001b[49m\u001b[43m \u001b[49m\u001b[43mbackground_color\u001b[49m\u001b[38;5;241;43m=\u001b[39;49m\u001b[38;5;124;43m'\u001b[39;49m\u001b[38;5;124;43mwhite\u001b[39;49m\u001b[38;5;124;43m'\u001b[39;49m\u001b[43m)\u001b[49m\u001b[38;5;241;43m.\u001b[39;49m\u001b[43mgenerate\u001b[49m\u001b[43m(\u001b[49m\u001b[43mcombined_text\u001b[49m\u001b[43m)\u001b[49m\n\u001b[0;32m     10\u001b[0m \u001b[38;5;66;03m# Display the Word Cloud\u001b[39;00m\n\u001b[0;32m     11\u001b[0m plt\u001b[38;5;241m.\u001b[39mfigure(figsize\u001b[38;5;241m=\u001b[39m(\u001b[38;5;241m10\u001b[39m, \u001b[38;5;241m5\u001b[39m))\n",
      "File \u001b[1;32m~\\anaconda3\\lib\\site-packages\\wordcloud\\wordcloud.py:639\u001b[0m, in \u001b[0;36mWordCloud.generate\u001b[1;34m(self, text)\u001b[0m\n\u001b[0;32m    624\u001b[0m \u001b[38;5;28;01mdef\u001b[39;00m \u001b[38;5;21mgenerate\u001b[39m(\u001b[38;5;28mself\u001b[39m, text):\n\u001b[0;32m    625\u001b[0m     \u001b[38;5;124;03m\"\"\"Generate wordcloud from text.\u001b[39;00m\n\u001b[0;32m    626\u001b[0m \n\u001b[0;32m    627\u001b[0m \u001b[38;5;124;03m    The input \"text\" is expected to be a natural text. If you pass a sorted\u001b[39;00m\n\u001b[1;32m   (...)\u001b[0m\n\u001b[0;32m    637\u001b[0m \u001b[38;5;124;03m    self\u001b[39;00m\n\u001b[0;32m    638\u001b[0m \u001b[38;5;124;03m    \"\"\"\u001b[39;00m\n\u001b[1;32m--> 639\u001b[0m     \u001b[38;5;28;01mreturn\u001b[39;00m \u001b[38;5;28;43mself\u001b[39;49m\u001b[38;5;241;43m.\u001b[39;49m\u001b[43mgenerate_from_text\u001b[49m\u001b[43m(\u001b[49m\u001b[43mtext\u001b[49m\u001b[43m)\u001b[49m\n",
      "File \u001b[1;32m~\\anaconda3\\lib\\site-packages\\wordcloud\\wordcloud.py:621\u001b[0m, in \u001b[0;36mWordCloud.generate_from_text\u001b[1;34m(self, text)\u001b[0m\n\u001b[0;32m    604\u001b[0m \u001b[38;5;124;03m\"\"\"Generate wordcloud from text.\u001b[39;00m\n\u001b[0;32m    605\u001b[0m \n\u001b[0;32m    606\u001b[0m \u001b[38;5;124;03mThe input \"text\" is expected to be a natural text. If you pass a sorted\u001b[39;00m\n\u001b[1;32m   (...)\u001b[0m\n\u001b[0;32m    618\u001b[0m \u001b[38;5;124;03mself\u001b[39;00m\n\u001b[0;32m    619\u001b[0m \u001b[38;5;124;03m\"\"\"\u001b[39;00m\n\u001b[0;32m    620\u001b[0m words \u001b[38;5;241m=\u001b[39m \u001b[38;5;28mself\u001b[39m\u001b[38;5;241m.\u001b[39mprocess_text(text)\n\u001b[1;32m--> 621\u001b[0m \u001b[38;5;28;43mself\u001b[39;49m\u001b[38;5;241;43m.\u001b[39;49m\u001b[43mgenerate_from_frequencies\u001b[49m\u001b[43m(\u001b[49m\u001b[43mwords\u001b[49m\u001b[43m)\u001b[49m\n\u001b[0;32m    622\u001b[0m \u001b[38;5;28;01mreturn\u001b[39;00m \u001b[38;5;28mself\u001b[39m\n",
      "File \u001b[1;32m~\\anaconda3\\lib\\site-packages\\wordcloud\\wordcloud.py:453\u001b[0m, in \u001b[0;36mWordCloud.generate_from_frequencies\u001b[1;34m(self, frequencies, max_font_size)\u001b[0m\n\u001b[0;32m    451\u001b[0m     font_size \u001b[38;5;241m=\u001b[39m \u001b[38;5;28mself\u001b[39m\u001b[38;5;241m.\u001b[39mheight\n\u001b[0;32m    452\u001b[0m \u001b[38;5;28;01melse\u001b[39;00m:\n\u001b[1;32m--> 453\u001b[0m     \u001b[38;5;28;43mself\u001b[39;49m\u001b[38;5;241;43m.\u001b[39;49m\u001b[43mgenerate_from_frequencies\u001b[49m\u001b[43m(\u001b[49m\u001b[38;5;28;43mdict\u001b[39;49m\u001b[43m(\u001b[49m\u001b[43mfrequencies\u001b[49m\u001b[43m[\u001b[49m\u001b[43m:\u001b[49m\u001b[38;5;241;43m2\u001b[39;49m\u001b[43m]\u001b[49m\u001b[43m)\u001b[49m\u001b[43m,\u001b[49m\n\u001b[0;32m    454\u001b[0m \u001b[43m                                   \u001b[49m\u001b[43mmax_font_size\u001b[49m\u001b[38;5;241;43m=\u001b[39;49m\u001b[38;5;28;43mself\u001b[39;49m\u001b[38;5;241;43m.\u001b[39;49m\u001b[43mheight\u001b[49m\u001b[43m)\u001b[49m\n\u001b[0;32m    455\u001b[0m     \u001b[38;5;66;03m# find font sizes\u001b[39;00m\n\u001b[0;32m    456\u001b[0m     sizes \u001b[38;5;241m=\u001b[39m [x[\u001b[38;5;241m1\u001b[39m] \u001b[38;5;28;01mfor\u001b[39;00m x \u001b[38;5;129;01min\u001b[39;00m \u001b[38;5;28mself\u001b[39m\u001b[38;5;241m.\u001b[39mlayout_]\n",
      "File \u001b[1;32m~\\anaconda3\\lib\\site-packages\\wordcloud\\wordcloud.py:503\u001b[0m, in \u001b[0;36mWordCloud.generate_from_frequencies\u001b[1;34m(self, frequencies, max_font_size)\u001b[0m\n\u001b[0;32m    500\u001b[0m tried_other_orientation \u001b[38;5;241m=\u001b[39m \u001b[38;5;28;01mFalse\u001b[39;00m\n\u001b[0;32m    501\u001b[0m \u001b[38;5;28;01mwhile\u001b[39;00m \u001b[38;5;28;01mTrue\u001b[39;00m:\n\u001b[0;32m    502\u001b[0m     \u001b[38;5;66;03m# try to find a position\u001b[39;00m\n\u001b[1;32m--> 503\u001b[0m     font \u001b[38;5;241m=\u001b[39m \u001b[43mImageFont\u001b[49m\u001b[38;5;241;43m.\u001b[39;49m\u001b[43mtruetype\u001b[49m\u001b[43m(\u001b[49m\u001b[38;5;28;43mself\u001b[39;49m\u001b[38;5;241;43m.\u001b[39;49m\u001b[43mfont_path\u001b[49m\u001b[43m,\u001b[49m\u001b[43m \u001b[49m\u001b[43mfont_size\u001b[49m\u001b[43m)\u001b[49m\n\u001b[0;32m    504\u001b[0m     \u001b[38;5;66;03m# transpose font optionally\u001b[39;00m\n\u001b[0;32m    505\u001b[0m     transposed_font \u001b[38;5;241m=\u001b[39m ImageFont\u001b[38;5;241m.\u001b[39mTransposedFont(\n\u001b[0;32m    506\u001b[0m         font, orientation\u001b[38;5;241m=\u001b[39morientation)\n",
      "File \u001b[1;32m~\\anaconda3\\lib\\site-packages\\PIL\\ImageFont.py:844\u001b[0m, in \u001b[0;36mtruetype\u001b[1;34m(font, size, index, encoding, layout_engine)\u001b[0m\n\u001b[0;32m    841\u001b[0m     \u001b[38;5;28;01mreturn\u001b[39;00m FreeTypeFont(font, size, index, encoding, layout_engine)\n\u001b[0;32m    843\u001b[0m \u001b[38;5;28;01mtry\u001b[39;00m:\n\u001b[1;32m--> 844\u001b[0m     \u001b[38;5;28;01mreturn\u001b[39;00m \u001b[43mfreetype\u001b[49m\u001b[43m(\u001b[49m\u001b[43mfont\u001b[49m\u001b[43m)\u001b[49m\n\u001b[0;32m    845\u001b[0m \u001b[38;5;28;01mexcept\u001b[39;00m \u001b[38;5;167;01mOSError\u001b[39;00m:\n\u001b[0;32m    846\u001b[0m     \u001b[38;5;28;01mif\u001b[39;00m \u001b[38;5;129;01mnot\u001b[39;00m isPath(font):\n",
      "File \u001b[1;32m~\\anaconda3\\lib\\site-packages\\PIL\\ImageFont.py:841\u001b[0m, in \u001b[0;36mtruetype.<locals>.freetype\u001b[1;34m(font)\u001b[0m\n\u001b[0;32m    840\u001b[0m \u001b[38;5;28;01mdef\u001b[39;00m \u001b[38;5;21mfreetype\u001b[39m(font):\n\u001b[1;32m--> 841\u001b[0m     \u001b[38;5;28;01mreturn\u001b[39;00m \u001b[43mFreeTypeFont\u001b[49m\u001b[43m(\u001b[49m\u001b[43mfont\u001b[49m\u001b[43m,\u001b[49m\u001b[43m \u001b[49m\u001b[43msize\u001b[49m\u001b[43m,\u001b[49m\u001b[43m \u001b[49m\u001b[43mindex\u001b[49m\u001b[43m,\u001b[49m\u001b[43m \u001b[49m\u001b[43mencoding\u001b[49m\u001b[43m,\u001b[49m\u001b[43m \u001b[49m\u001b[43mlayout_engine\u001b[49m\u001b[43m)\u001b[49m\n",
      "File \u001b[1;32m~\\anaconda3\\lib\\site-packages\\PIL\\ImageFont.py:169\u001b[0m, in \u001b[0;36mFreeTypeFont.__init__\u001b[1;34m(self, font, size, index, encoding, layout_engine)\u001b[0m\n\u001b[0;32m    167\u001b[0m \u001b[38;5;28;01mif\u001b[39;00m layout_engine \u001b[38;5;129;01mnot\u001b[39;00m \u001b[38;5;129;01min\u001b[39;00m (LAYOUT_BASIC, LAYOUT_RAQM):\n\u001b[0;32m    168\u001b[0m     layout_engine \u001b[38;5;241m=\u001b[39m LAYOUT_BASIC\n\u001b[1;32m--> 169\u001b[0m     \u001b[38;5;28;01mif\u001b[39;00m \u001b[43mcore\u001b[49m\u001b[38;5;241;43m.\u001b[39;49m\u001b[43mHAVE_RAQM\u001b[49m:\n\u001b[0;32m    170\u001b[0m         layout_engine \u001b[38;5;241m=\u001b[39m LAYOUT_RAQM\n\u001b[0;32m    171\u001b[0m \u001b[38;5;28;01melif\u001b[39;00m layout_engine \u001b[38;5;241m==\u001b[39m LAYOUT_RAQM \u001b[38;5;129;01mand\u001b[39;00m \u001b[38;5;129;01mnot\u001b[39;00m core\u001b[38;5;241m.\u001b[39mHAVE_RAQM:\n",
      "File \u001b[1;32m~\\anaconda3\\lib\\site-packages\\PIL\\ImageFont.py:43\u001b[0m, in \u001b[0;36m_imagingft_not_installed.__getattr__\u001b[1;34m(self, id)\u001b[0m\n\u001b[0;32m     42\u001b[0m \u001b[38;5;28;01mdef\u001b[39;00m \u001b[38;5;21m__getattr__\u001b[39m(\u001b[38;5;28mself\u001b[39m, \u001b[38;5;28mid\u001b[39m):\n\u001b[1;32m---> 43\u001b[0m     \u001b[38;5;28;01mraise\u001b[39;00m \u001b[38;5;167;01mImportError\u001b[39;00m(\u001b[38;5;124m\"\u001b[39m\u001b[38;5;124mThe _imagingft C module is not installed\u001b[39m\u001b[38;5;124m\"\u001b[39m)\n",
      "\u001b[1;31mImportError\u001b[0m: The _imagingft C module is not installed"
     ]
    }
   ],
   "source": [
    "from wordcloud import WordCloud\n",
    "import matplotlib.pyplot as plt\n",
    "\n",
    "# Combine all the preprocessed text into a single string\n",
    "combined_text = ' '.join(df['article'])\n",
    "\n",
    "# Create a WordCloud object\n",
    "wordcloud = WordCloud(width=800, height=400, background_color='white').generate(combined_text)\n",
    "\n",
    "# Display the Word Cloud\n",
    "plt.figure(figsize=(10, 5))\n",
    "plt.imshow(wordcloud, interpolation='bilinear')\n",
    "plt.axis(\"off\")\n",
    "plt.show()\n"
   ]
  },
  {
   "cell_type": "code",
   "execution_count": null,
   "id": "e6c0b841",
   "metadata": {},
   "outputs": [],
   "source": []
  }
 ],
 "metadata": {
  "kernelspec": {
   "display_name": "Python 3 (ipykernel)",
   "language": "python",
   "name": "python3"
  },
  "language_info": {
   "codemirror_mode": {
    "name": "ipython",
    "version": 3
   },
   "file_extension": ".py",
   "mimetype": "text/x-python",
   "name": "python",
   "nbconvert_exporter": "python",
   "pygments_lexer": "ipython3",
   "version": "3.9.16"
  }
 },
 "nbformat": 4,
 "nbformat_minor": 5
}
