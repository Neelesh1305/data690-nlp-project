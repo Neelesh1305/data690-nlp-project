{
 "cells": [
  {
   "cell_type": "code",
   "execution_count": 1,
   "id": "d4005945",
   "metadata": {
    "ExecuteTime": {
     "end_time": "2023-10-26T00:47:29.976724Z",
     "start_time": "2023-10-26T00:47:29.257134Z"
    }
   },
   "outputs": [],
   "source": [
    "import pandas as pd\n",
    "import numpy as np\n",
    "import requests\n",
    "from bs4 import BeautifulSoup\n",
    "import os\n",
    "import csv\n"
   ]
  },
  {
   "cell_type": "code",
   "execution_count": 2,
   "id": "babc6809",
   "metadata": {
    "ExecuteTime": {
     "end_time": "2023-10-26T00:47:29.992498Z",
     "start_time": "2023-10-26T00:47:29.978843Z"
    }
   },
   "outputs": [],
   "source": [
    "news1 = 'https://washingtonstatewire.com/cities-awarded-funding-for-electric-vehicle-charging-stations/'\n",
    "news2 = 'https://washingtonstatewire.com/adapt-or-mitigate-washington-republicans-roll-out-climate-proposal/'\n",
    "news3 = 'https://washingtonstatewire.com/op-ed-now-is-the-time-to-electrify-public-vehicle-fleets/'\n",
    "news4 = 'https://washingtonstatewire.com/washington-state-passes-law-establishing-2030-target-for-phasing-out-gasoline-vehicles/'\n",
    "news5 = 'https://washingtonstatewire.com/electric-vehicle-tax-break-extension-faces-stiff-challenges-cost-conscious-legislature/'\n",
    "news6 = 'https://washingtonstatewire.com/cities-awarded-funding-for-electric-vehicle-charging-stations/'\n",
    "\n",
    "washington_state_wire = [news1, news2, news3, news4, news5, news6]"
   ]
  },
  {
   "cell_type": "code",
   "execution_count": 3,
   "id": "f5e104ec",
   "metadata": {
    "ExecuteTime": {
     "end_time": "2023-10-26T00:47:30.007309Z",
     "start_time": "2023-10-26T00:47:29.994017Z"
    }
   },
   "outputs": [],
   "source": [
    "def get_washington_news_article(url):\n",
    "    response = requests.get(url)\n",
    "    response.raise_for_status()\n",
    "    soup = BeautifulSoup(response.text, 'html.parser')\n",
    "    \n",
    "    title = soup.find('h1', class_='story-title').get_text(strip=True)\n",
    "    article_content = soup.find('div', class_='story-content').get_text(strip=True)\n",
    "    if article_content:\n",
    "        return title, article_content\n",
    "    else:\n",
    "        print(\"couldnt find the article content\")"
   ]
  },
  {
   "cell_type": "code",
   "execution_count": 4,
   "id": "b85a6cf2",
   "metadata": {
    "ExecuteTime": {
     "end_time": "2023-10-26T00:47:30.023100Z",
     "start_time": "2023-10-26T00:47:30.009832Z"
    }
   },
   "outputs": [],
   "source": [
    "def create_dataset(file_name, dir_path, news_source, news_fetcher):\n",
    "    os.makedirs(dir_path, exist_ok=True)\n",
    "    csv_filename = os.path.join(dir_path, file_name)\n",
    "    \n",
    "    with open(csv_filename, 'w', newline='', encoding='utf-8') as file:\n",
    "        writer = csv.writer(file)\n",
    "        writer.writerow(['title', 'article'])\n",
    "        \n",
    "        for news in news_source:\n",
    "            title, article = news_fetcher(news)\n",
    "            writer.writerow([title, article])"
   ]
  },
  {
   "cell_type": "code",
   "execution_count": 5,
   "id": "e58a860d",
   "metadata": {
    "ExecuteTime": {
     "end_time": "2023-10-26T00:47:32.033217Z",
     "start_time": "2023-10-26T00:47:30.024500Z"
    }
   },
   "outputs": [],
   "source": [
    "dir_path = 'news/washington-state/temp/'\n",
    "create_dataset('articles.csv', dir_path, washington_state_wire, get_washington_news_article)"
   ]
  },
  {
   "cell_type": "markdown",
   "id": "b878c7ac",
   "metadata": {},
   "source": [
    "# Los angeles daily news"
   ]
  },
  {
   "cell_type": "code",
   "execution_count": 6,
   "id": "27a79f1e",
   "metadata": {
    "ExecuteTime": {
     "end_time": "2023-10-26T00:47:32.048488Z",
     "start_time": "2023-10-26T00:47:32.034695Z"
    }
   },
   "outputs": [],
   "source": [
    "news1 = 'https://www.dailynews.com/2023/10/18/pennsylvania-regulators-follow-californias-lead-with-the-same-abysmal-results/'\n",
    "news2 = 'https://www.dailynews.com/2023/10/22/proposed-tax-credit-could-help-landscapers-transition-to-electric-leaf-blowers-lawn-mowers/'\n",
    "news3 = 'https://www.dailynews.com/2023/10/09/tesla-prices-now-rival-average-us-carsafter-billions-in-cuts/'\n",
    "news4 = 'https://www.dailynews.com/2023/09/22/why-cant-americans-buy-cheap-chinese-evs/'\n",
    "\n",
    "la_daily_news = [news1, news2, news3, news4]\n",
    "\n",
    "def get_la_news(url):\n",
    "    response = requests.get(url)\n",
    "    response.raise_for_status()\n",
    "    soup = BeautifulSoup(response.text, 'html.parser')\n",
    "    article_content = soup.find('div', class_='article-body').get_text(strip=True)\n",
    "    title = soup.find('span', class_='metered').get_text(strip=True)\n",
    "    if article_content:\n",
    "        return title, article_content\n",
    "    else:\n",
    "        print(\"couldnt find article content\")"
   ]
  },
  {
   "cell_type": "code",
   "execution_count": 7,
   "id": "5058b5c5",
   "metadata": {
    "ExecuteTime": {
     "end_time": "2023-10-26T00:47:32.795381Z",
     "start_time": "2023-10-26T00:47:32.052217Z"
    }
   },
   "outputs": [],
   "source": [
    "dir_path = 'news/california/la/temp/'\n",
    "create_dataset('articles.csv', dir_path, la_daily_news, get_la_news)"
   ]
  },
  {
   "cell_type": "markdown",
   "id": "1abddf13",
   "metadata": {},
   "source": [
    "# San francisco chronicles"
   ]
  },
  {
   "cell_type": "code",
   "execution_count": 8,
   "id": "ad78bfa9",
   "metadata": {
    "ExecuteTime": {
     "end_time": "2023-10-26T00:47:32.811279Z",
     "start_time": "2023-10-26T00:47:32.797381Z"
    }
   },
   "outputs": [],
   "source": [
    "news1 = 'https://web.archive.org/web/20190323184608/https://www.sfchronicle.com/bayarea/article/Environmental-groups-want-SF-to-nudge-Uber-Lyft-13707375.php'\n",
    "news2 = 'https://web.archive.org/web/20190716185842/https://www.sfchronicle.com/bayarea/article/To-cut-carbon-footprint-SF-moves-to-eliminate-14097997.php'\n",
    "news3 = 'https://web.archive.org/web/20230320181546/https://www.sfchronicle.com/bayarea/article/With-new-grant-program-Bay-Area-spreads-electric-14888605.php'\n",
    "news4 = 'https://web.archive.org/web/20230129201621/https://www.sfchronicle.com/bayarea/article/Berkeley-to-considering-banning-the-sale-of-15862688.php'\n",
    "\n",
    "sf_chronicles_news = [news1, news2, news3, news4]\n",
    "\n",
    "def get_sf_news(url):\n",
    "    text = ''\n",
    "    response = requests.get(url)\n",
    "    response.raise_for_status()\n",
    "\n",
    "    soup = BeautifulSoup(response.text, 'html.parser')\n",
    "    paragraphs = soup.find_all('p')\n",
    "    title = soup.find('h1', class_='header-title')\n",
    "    if not title or title.text.strip() == '':\n",
    "        title = soup.find('h1', class_='articleHeader--headline')\n",
    "    title = title.text.strip() if title else None\n",
    "    text = ' '.join(p.get_text(strip=True) for p in paragraphs)\n",
    "    \n",
    "    return title, text\n",
    " "
   ]
  },
  {
   "cell_type": "code",
   "execution_count": 9,
   "id": "c279cbcc",
   "metadata": {
    "ExecuteTime": {
     "end_time": "2023-10-26T00:47:36.504117Z",
     "start_time": "2023-10-26T00:47:32.813178Z"
    }
   },
   "outputs": [],
   "source": [
    "dir_path = 'news/california/sf/temp/'\n",
    "\n",
    "create_dataset('articles.csv', dir_path, sf_chronicles_news, get_sf_news)"
   ]
  },
  {
   "cell_type": "markdown",
   "id": "c31046e5",
   "metadata": {},
   "source": [
    "# illinois"
   ]
  },
  {
   "cell_type": "code",
   "execution_count": 10,
   "id": "f8a9d43c",
   "metadata": {
    "ExecuteTime": {
     "end_time": "2023-10-26T00:47:39.740935Z",
     "start_time": "2023-10-26T00:47:36.507990Z"
    }
   },
   "outputs": [],
   "source": [
    "news1 = 'https://chicago.suntimes.com/2021/4/5/22368102/electric-cars-vehicles-charging-stations-illinois'\n",
    "news2 = 'https://chicago.suntimes.com/politics/2021/11/16/22785414/illinois-electric-vehicle-legislation-ev-clean-transportation-revolution-pritzker'\n",
    "news3 = 'https://chicago.suntimes.com/2021/4/4/22362953/electric-vehicles-volkswagen-trust-money-illinois-editorial'\n",
    "news4 = 'https://chicago.suntimes.com/2023/7/17/23795105/electric-vehicle-manufacturing-illinois-pritzker-corporate-headquarters-jobs-editorial'\n",
    "news5 = 'https://chicago.suntimes.com/2018/1/14/18356079/ford-to-bring-out-40-electrics-hybrids-by-2022'\n",
    "\n",
    "cst_news = [news1, news2, news3, news4, news5]\n",
    "\n",
    "def get_cst_news(url):\n",
    "    response = requests.get(url)\n",
    "    response.raise_for_status()\n",
    "    soup = BeautifulSoup(response.text, 'html.parser')\n",
    "    article_content = soup.find('div', class_='RichTextBody')\n",
    "    if article_content:\n",
    "        text = article_content.get_text()\n",
    "    else:\n",
    "        print(\"couldnt find article content\")\n",
    "    title = soup.find('h1', class_='Page-headline').get_text(strip=True)\n",
    "    \n",
    "    return title, text\n",
    "\n",
    "dir_path = 'news/illinois/temp/'\n",
    "\n",
    "create_dataset('articles.csv', dir_path, cst_news, get_cst_news)"
   ]
  },
  {
   "cell_type": "code",
   "execution_count": 11,
   "id": "aadc1870",
   "metadata": {
    "ExecuteTime": {
     "end_time": "2023-10-26T00:47:39.786722Z",
     "start_time": "2023-10-26T00:47:39.743981Z"
    }
   },
   "outputs": [
    {
     "data": {
      "text/html": [
       "<div>\n",
       "<style scoped>\n",
       "    .dataframe tbody tr th:only-of-type {\n",
       "        vertical-align: middle;\n",
       "    }\n",
       "\n",
       "    .dataframe tbody tr th {\n",
       "        vertical-align: top;\n",
       "    }\n",
       "\n",
       "    .dataframe thead th {\n",
       "        text-align: right;\n",
       "    }\n",
       "</style>\n",
       "<table border=\"1\" class=\"dataframe\">\n",
       "  <thead>\n",
       "    <tr style=\"text-align: right;\">\n",
       "      <th></th>\n",
       "      <th>title</th>\n",
       "      <th>article</th>\n",
       "    </tr>\n",
       "  </thead>\n",
       "  <tbody>\n",
       "    <tr>\n",
       "      <th>0</th>\n",
       "      <td>Electric vehicle charging stations could be bo...</td>\n",
       "      <td>\\nI have owned and driven an electric vehicle ...</td>\n",
       "    </tr>\n",
       "    <tr>\n",
       "      <th>1</th>\n",
       "      <td>Pritzker signs electric vehicle legislation, a...</td>\n",
       "      <td>\\nGov. J.B. Pritzker on Tuesday signed legisla...</td>\n",
       "    </tr>\n",
       "    <tr>\n",
       "      <th>2</th>\n",
       "      <td>Illinois is sitting on millions that could be ...</td>\n",
       "      <td>\\nIllinois has an electric vehicle chicken-and...</td>\n",
       "    </tr>\n",
       "    <tr>\n",
       "      <th>3</th>\n",
       "      <td>Bring electric vehicle manufacturing to Illino...</td>\n",
       "      <td>\\nAs some corporate headquarters decamp for ot...</td>\n",
       "    </tr>\n",
       "    <tr>\n",
       "      <th>4</th>\n",
       "      <td>Ford to bring out 40 electrics, hybrids by 2022</td>\n",
       "      <td>\\nDETROIT — Ford Motor Co. said it’s doubling ...</td>\n",
       "    </tr>\n",
       "  </tbody>\n",
       "</table>\n",
       "</div>"
      ],
      "text/plain": [
       "                                               title  \\\n",
       "0  Electric vehicle charging stations could be bo...   \n",
       "1  Pritzker signs electric vehicle legislation, a...   \n",
       "2  Illinois is sitting on millions that could be ...   \n",
       "3  Bring electric vehicle manufacturing to Illino...   \n",
       "4    Ford to bring out 40 electrics, hybrids by 2022   \n",
       "\n",
       "                                             article  \n",
       "0  \\nI have owned and driven an electric vehicle ...  \n",
       "1  \\nGov. J.B. Pritzker on Tuesday signed legisla...  \n",
       "2  \\nIllinois has an electric vehicle chicken-and...  \n",
       "3  \\nAs some corporate headquarters decamp for ot...  \n",
       "4  \\nDETROIT — Ford Motor Co. said it’s doubling ...  "
      ]
     },
     "execution_count": 11,
     "metadata": {},
     "output_type": "execute_result"
    }
   ],
   "source": [
    "df = pd.read_csv('news/illinois/temp/articles.csv')\n",
    "df.head()"
   ]
  },
  {
   "cell_type": "markdown",
   "id": "2138cd88",
   "metadata": {},
   "source": [
    "# Texas"
   ]
  },
  {
   "cell_type": "code",
   "execution_count": 12,
   "id": "8af7cac3",
   "metadata": {
    "ExecuteTime": {
     "end_time": "2023-10-26T00:47:41.247631Z",
     "start_time": "2023-10-26T00:47:39.788722Z"
    }
   },
   "outputs": [],
   "source": [
    "news1 = 'https://www.dallasnews.com/business/autos/2022/12/28/2023-tax-credits-may-boost-the-appeal-of-electric-vehicles/'\n",
    "news2 = 'https://www.dallasnews.com/news/2022/10/08/are-electric-vehicles-the-future-heres-what-state-fair-of-texas-visitors-are-saying/'\n",
    "news3 = 'https://www.dallasnews.com/business/autos/2023/04/17/only-10-electric-vehicles-will-qualify-for-7500-tax-credit/'\n",
    "news4 = 'https://www.dallasnews.com/news/politics/2023/07/03/new-texas-laws-aimed-at-sharp-rise-in-electric-vehicle-ownership-in-lone-star-state/'\n",
    "\n",
    "dallas_news = [news1, news2, news3, news4]\n",
    "\n",
    "def get_dallas_news(url):\n",
    "    text = ''\n",
    "    response = requests.get(url)\n",
    "    response.raise_for_status()  # This will raise an exception if there's a HTTP error\n",
    "\n",
    "    soup = BeautifulSoup(response.text, 'html.parser')\n",
    "    paragraphs = soup.find_all('p')\n",
    "    \n",
    "    text = ' '.join(p.get_text(strip=True) for p in paragraphs)\n",
    "    title = soup.find('span', class_='dmnc_generic-header-header-module__i2K-Y mr-7').get_text(strip=True)\n",
    "    \n",
    "    return title, text\n",
    "\n",
    "dir_path = 'news/texas/temp/'\n",
    "create_dataset('articles.csv', dir_path, dallas_news, get_dallas_news)\n",
    "\n"
   ]
  },
  {
   "cell_type": "code",
   "execution_count": 13,
   "id": "1a488799",
   "metadata": {
    "ExecuteTime": {
     "end_time": "2023-10-26T00:47:41.278954Z",
     "start_time": "2023-10-26T00:47:41.250200Z"
    }
   },
   "outputs": [
    {
     "data": {
      "text/html": [
       "<div>\n",
       "<style scoped>\n",
       "    .dataframe tbody tr th:only-of-type {\n",
       "        vertical-align: middle;\n",
       "    }\n",
       "\n",
       "    .dataframe tbody tr th {\n",
       "        vertical-align: top;\n",
       "    }\n",
       "\n",
       "    .dataframe thead th {\n",
       "        text-align: right;\n",
       "    }\n",
       "</style>\n",
       "<table border=\"1\" class=\"dataframe\">\n",
       "  <thead>\n",
       "    <tr style=\"text-align: right;\">\n",
       "      <th></th>\n",
       "      <th>title</th>\n",
       "      <th>article</th>\n",
       "    </tr>\n",
       "  </thead>\n",
       "  <tbody>\n",
       "    <tr>\n",
       "      <th>0</th>\n",
       "      <td>2023 tax credits may boost the appeal of elect...</td>\n",
       "      <td>businessAutos ByThe Associated Press 5:38 AM o...</td>\n",
       "    </tr>\n",
       "    <tr>\n",
       "      <th>1</th>\n",
       "      <td>Are electric vehicles the future? Here’s what ...</td>\n",
       "      <td>News ByNoor Adatia 8:00 AM on Oct 8, 2022 CDT ...</td>\n",
       "    </tr>\n",
       "    <tr>\n",
       "      <th>2</th>\n",
       "      <td>Only 10 electric vehicles will qualify for $7,...</td>\n",
       "      <td>businessAutos ByThe Associated Press 1:38 PM o...</td>\n",
       "    </tr>\n",
       "    <tr>\n",
       "      <th>3</th>\n",
       "      <td>New Texas laws aimed at sharp rise in electric...</td>\n",
       "      <td>newsPolitics ByAarón Torres 6:00 AM on Jul 3, ...</td>\n",
       "    </tr>\n",
       "  </tbody>\n",
       "</table>\n",
       "</div>"
      ],
      "text/plain": [
       "                                               title  \\\n",
       "0  2023 tax credits may boost the appeal of elect...   \n",
       "1  Are electric vehicles the future? Here’s what ...   \n",
       "2  Only 10 electric vehicles will qualify for $7,...   \n",
       "3  New Texas laws aimed at sharp rise in electric...   \n",
       "\n",
       "                                             article  \n",
       "0  businessAutos ByThe Associated Press 5:38 AM o...  \n",
       "1  News ByNoor Adatia 8:00 AM on Oct 8, 2022 CDT ...  \n",
       "2  businessAutos ByThe Associated Press 1:38 PM o...  \n",
       "3  newsPolitics ByAarón Torres 6:00 AM on Jul 3, ...  "
      ]
     },
     "execution_count": 13,
     "metadata": {},
     "output_type": "execute_result"
    }
   ],
   "source": [
    "df = pd.read_csv('news/texas/temp/articles.csv')\n",
    "df.head()"
   ]
  },
  {
   "cell_type": "markdown",
   "id": "86c5a2fc",
   "metadata": {},
   "source": [
    "# Maryland"
   ]
  },
  {
   "cell_type": "code",
   "execution_count": 14,
   "id": "22439c3e",
   "metadata": {
    "ExecuteTime": {
     "end_time": "2023-10-26T00:47:41.294118Z",
     "start_time": "2023-10-26T00:47:41.281468Z"
    }
   },
   "outputs": [],
   "source": [
    "news1 = 'https://www.baltimoresun.com/business/ct-biz-electric-vehicles-tax-credits-ap-20220809-xyjdmajuurh4lehqct2mek7nly-story.html'\n",
    "news2 = 'https://www.baltimoresun.com/opinion/columnists/dan-rodricks/bs-ed-rodricks-0816-electric-cars-20220816-jx5tqcuzhffmrh5un3mubollri-story.html'\n",
    "news3 = 'https://www.baltimoresun.com/business/ct-biz-rivian-georgia-meeting-20220420-qjctyvdlqfal5gyncifphhxpzu-story.html'\n",
    "news4 = 'https://www.baltimoresun.com/news/environment/bs-md-hogan-administration-california-electric-cars-rule-20221213-ag72mp7qrfe2jb23yhym5hapqe-story.html'\n",
    "news5 = 'https://www.baltimoresun.com/news/environment/bs-md-california-electric-vehicle-rule-20230313-44vamz2vczevvahuhivdluqscy-story.html'\n",
    "\n",
    "maryland_news = [news1, news2, news3, news4, news5]\n",
    "\n",
    "def get_maryland_news(url):\n",
    "    text = ''\n",
    "    response = requests.get(url)\n",
    "    response.raise_for_status()  # This will raise an exception if there's a HTTP error\n",
    "\n",
    "    soup = BeautifulSoup(response.text, 'html.parser')\n",
    "    title = soup.find('h1', class_='headline').get_text(strip=True)\n",
    "    \n",
    "    paragraphs = soup.find('article', class_='article-body-wrapper-custom')\n",
    "    text = ' '.join(p.get_text(strip=True) for p in paragraphs.find_all('p'))\n",
    "    \n",
    "    return title, text\n",
    "\n"
   ]
  },
  {
   "cell_type": "code",
   "execution_count": 15,
   "id": "51bcaa9e",
   "metadata": {
    "ExecuteTime": {
     "end_time": "2023-10-26T00:47:44.189270Z",
     "start_time": "2023-10-26T00:47:41.296641Z"
    }
   },
   "outputs": [],
   "source": [
    "dir_path = 'news/maryland/timepass'\n",
    "create_dataset('new_timepass.csv', dir_path, maryland_news, get_maryland_news)"
   ]
  },
  {
   "cell_type": "code",
   "execution_count": 16,
   "id": "d6a1038d",
   "metadata": {
    "ExecuteTime": {
     "end_time": "2023-10-26T00:47:44.221342Z",
     "start_time": "2023-10-26T00:47:44.192781Z"
    }
   },
   "outputs": [
    {
     "data": {
      "text/html": [
       "<div>\n",
       "<style scoped>\n",
       "    .dataframe tbody tr th:only-of-type {\n",
       "        vertical-align: middle;\n",
       "    }\n",
       "\n",
       "    .dataframe tbody tr th {\n",
       "        vertical-align: top;\n",
       "    }\n",
       "\n",
       "    .dataframe thead th {\n",
       "        text-align: right;\n",
       "    }\n",
       "</style>\n",
       "<table border=\"1\" class=\"dataframe\">\n",
       "  <thead>\n",
       "    <tr style=\"text-align: right;\">\n",
       "      <th></th>\n",
       "      <th>title</th>\n",
       "      <th>article</th>\n",
       "    </tr>\n",
       "  </thead>\n",
       "  <tbody>\n",
       "    <tr>\n",
       "      <th>0</th>\n",
       "      <td>Most electric vehicles won’t qualify for feder...</td>\n",
       "      <td>DETROIT — A tax credit of up to $7,500 could b...</td>\n",
       "    </tr>\n",
       "    <tr>\n",
       "      <th>1</th>\n",
       "      <td>Dan Rodricks: All charged up for an electric c...</td>\n",
       "      <td>If you own an electric car or truck, or drive ...</td>\n",
       "    </tr>\n",
       "    <tr>\n",
       "      <th>2</th>\n",
       "      <td>Rivian electric car plant blasted by foes at G...</td>\n",
       "      <td>MONROE, Ga. — Opponents trying to derail a $5 ...</td>\n",
       "    </tr>\n",
       "    <tr>\n",
       "      <th>3</th>\n",
       "      <td>Hogan administration won’t match California’s ...</td>\n",
       "      <td>Maryland Gov. Larry Hogan’s administration won...</td>\n",
       "    </tr>\n",
       "    <tr>\n",
       "      <th>4</th>\n",
       "      <td>California electric vehicle rule takes another...</td>\n",
       "      <td>Maryland took a big step Monday toward eventua...</td>\n",
       "    </tr>\n",
       "  </tbody>\n",
       "</table>\n",
       "</div>"
      ],
      "text/plain": [
       "                                               title  \\\n",
       "0  Most electric vehicles won’t qualify for feder...   \n",
       "1  Dan Rodricks: All charged up for an electric c...   \n",
       "2  Rivian electric car plant blasted by foes at G...   \n",
       "3  Hogan administration won’t match California’s ...   \n",
       "4  California electric vehicle rule takes another...   \n",
       "\n",
       "                                             article  \n",
       "0  DETROIT — A tax credit of up to $7,500 could b...  \n",
       "1  If you own an electric car or truck, or drive ...  \n",
       "2  MONROE, Ga. — Opponents trying to derail a $5 ...  \n",
       "3  Maryland Gov. Larry Hogan’s administration won...  \n",
       "4  Maryland took a big step Monday toward eventua...  "
      ]
     },
     "execution_count": 16,
     "metadata": {},
     "output_type": "execute_result"
    }
   ],
   "source": [
    "df = pd.read_csv('news/maryland/timepass/new_timepass.csv')\n",
    "df.head()"
   ]
  }
 ],
 "metadata": {
  "kernelspec": {
   "display_name": "Python 3 (ipykernel)",
   "language": "python",
   "name": "python3"
  },
  "language_info": {
   "codemirror_mode": {
    "name": "ipython",
    "version": 3
   },
   "file_extension": ".py",
   "mimetype": "text/x-python",
   "name": "python",
   "nbconvert_exporter": "python",
   "pygments_lexer": "ipython3",
   "version": "3.9.16"
  }
 },
 "nbformat": 4,
 "nbformat_minor": 5
}
